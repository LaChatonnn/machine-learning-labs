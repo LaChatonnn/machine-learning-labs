{
  "nbformat": 4,
  "nbformat_minor": 0,
  "metadata": {
    "colab": {
      "name": "lab8_rl.ipynb",
      "provenance": [],
      "collapsed_sections": [],
      "authorship_tag": "ABX9TyO1jW1L7iXH2E4p3/g4EtmX",
      "include_colab_link": true
    },
    "kernelspec": {
      "name": "python3",
      "display_name": "Python 3"
    }
  },
  "cells": [
    {
      "cell_type": "markdown",
      "metadata": {
        "id": "view-in-github",
        "colab_type": "text"
      },
      "source": [
        "<a href=\"https://colab.research.google.com/github/YipingNUS/machine-learning-labs/blob/master/lab8_rl.ipynb\" target=\"_parent\"><img src=\"https://colab.research.google.com/assets/colab-badge.svg\" alt=\"Open In Colab\"/></a>"
      ]
    },
    {
      "cell_type": "markdown",
      "metadata": {
        "id": "PBoRMeMz-fEt",
        "colab_type": "text"
      },
      "source": [
        "# Lab 8: Different MAB Algorithms for Exploration and Exploitation\n",
        "\n",
        "Your task is as follows:\n",
        "1. Implement the `pull` and `update` method in the `Bandit` class.\n",
        "2. Implement epsilon-greedy algorithm and explore different epsilons.\n",
        "3. Implement the two most popular exploration and exploitation algorithms, upper confidence bound and Thompson sampling.\n",
        "4. Compare all the Bandit algorithms above and see which one yields the best cumulated reward."
      ]
    },
    {
      "cell_type": "code",
      "metadata": {
        "id": "eum8Y4gp-bDx",
        "colab_type": "code",
        "colab": {}
      },
      "source": [
        "%matplotlib inline\n",
        "\n",
        "import numpy as np\n",
        "import matplotlib.pyplot as plt"
      ],
      "execution_count": 0,
      "outputs": []
    },
    {
      "cell_type": "markdown",
      "metadata": {
        "id": "MFQ4r9i7wfEo",
        "colab_type": "text"
      },
      "source": [
        "Hint, to calculate the mean and variance in an online manner, you can keep track of the sum and sum of square of the data [Reference](https://en.wikipedia.org/wiki/Algorithms_for_calculating_variance). (This is needed for Thompson sampling)\n",
        "\n",
        "```\n",
        "Let n ← 0, Sum ← 0, SumSq ← 0, mean ← 0, var ← 0\n",
        "For each datum x:\n",
        "  n ← n + 1\n",
        "  Sum ← Sum + x\n",
        "  SumSq ← SumSq + x × x\n",
        "  mean = Sum / n\n",
        "  var = (SumSq − (Sum × Sum) / n) / (n − 1)\n",
        "```"
      ]
    },
    {
      "cell_type": "code",
      "metadata": {
        "id": "cj9_0-Xt-wfD",
        "colab_type": "code",
        "colab": {}
      },
      "source": [
        "class Bandit:\n",
        "  def __init__(self, m):\n",
        "    \"\"\"\n",
        "    :param m  the real mean reward of the bandit. (not visible to the algorithm)\n",
        "    \"\"\"\n",
        "    self.m = m\n",
        "    self.mean = 0\n",
        "    self.var = float('inf')\n",
        "    self.N = 0\n",
        "    self.sum = 0\n",
        "    self.sumSq = 0\n",
        "\n",
        "  def pull(self):\n",
        "    \"\"\" observes the reward. The reward should be the real mean reward \n",
        "        +/- a random value \n",
        "    \"\"\"\n",
        "    TODO\n",
        "\n",
        "  def update(self, x):\n",
        "    \"\"\" update the stats\n",
        "    \"\"\"\n",
        "    TODO"
      ],
      "execution_count": 0,
      "outputs": []
    },
    {
      "cell_type": "code",
      "metadata": {
        "id": "fKQGKeZryaLD",
        "colab_type": "code",
        "colab": {}
      },
      "source": [
        "def epsilon_greedy(bandits, eps):\n",
        "  \"\"\" select the bandit to pull using epsilon greedy\n",
        "  :param bandits - the list of bandit objects to choose from\n",
        "  :param eps - epsilon\n",
        "  :return j - the index of the bandit to pull\n",
        "  \"\"\"\n",
        "  j = np.random.choice(len(bandits))\n",
        "  return j"
      ],
      "execution_count": 0,
      "outputs": []
    },
    {
      "cell_type": "code",
      "metadata": {
        "id": "Edq9vOFEgXjZ",
        "colab_type": "code",
        "colab": {}
      },
      "source": [
        "def ucb(bandits, i):\n",
        "  \"\"\" select the bandit to pull using upper confident bound\n",
        "  :param bandits - the list of bandit objects to choose from\n",
        "  :param n - the number of repeated experiments\n",
        "  :return j - the index of the bandit to pull\n",
        "  \"\"\"\n",
        "  j = np.random.choice(len(bandits))\n",
        "  return j"
      ],
      "execution_count": 0,
      "outputs": []
    },
    {
      "cell_type": "code",
      "metadata": {
        "id": "DKZj-iQbgZY1",
        "colab_type": "code",
        "colab": {}
      },
      "source": [
        "def thompson_sampling(bandits):\n",
        "  \"\"\" select the bandit to pull using Thompson Sampling\n",
        "  :param bandits - the list of bandit objects to choose from\n",
        "  :param n - the number\n",
        "  :return j - the index of the bandit to pull\n",
        "  \"\"\"\n",
        "  j = np.random.choice(len(bandits))\n",
        "  return j"
      ],
      "execution_count": 0,
      "outputs": []
    },
    {
      "cell_type": "code",
      "metadata": {
        "id": "GwuQc0AF_TAa",
        "colab_type": "code",
        "colab": {}
      },
      "source": [
        "def run_experiment(bandits, eps, N, strategy='epsilon_greedy'):\n",
        "  data = np.empty(N)\n",
        "  \n",
        "  for i in range(N):\n",
        "    # epsilon greedy\n",
        "    if strategy == 'epsilon_greedy':\n",
        "      j = epsilon_greedy(bandits, eps)\n",
        "    elif strategy == 'ucb':\n",
        "      j = ucb(bandits, i)\n",
        "    elif strategy == 'thompson_sampling':\n",
        "      j = thompson_sampling(bandits)\n",
        "    else:\n",
        "      j = np.random.choice(len(bandits))\n",
        "    x = bandits[j].pull()\n",
        "    bandits[j].update(x)\n",
        "\n",
        "    # for the plot\n",
        "    data[i] = x\n",
        "  cumulative_average = np.cumsum(data) / (np.arange(N) + 1)\n",
        "\n",
        "  return cumulative_average"
      ],
      "execution_count": 0,
      "outputs": []
    },
    {
      "cell_type": "code",
      "metadata": {
        "id": "MHbwX4GC_TqX",
        "colab_type": "code",
        "outputId": "8096785c-d418-4c42-f550-5833b1ae9642",
        "colab": {
          "base_uri": "https://localhost:8080/",
          "height": 265
        }
      },
      "source": [
        "bandits = [Bandit(1.0), Bandit(2.0), Bandit(3.0)]\n",
        "c_1 = run_experiment(bandits, 0.1, 1000)\n",
        "c_05 = run_experiment(bandits, 0.05, 1000)\n",
        "c_01 = run_experiment(bandits, 0.01, 1000)\n",
        "\n",
        "plt.plot(c_1, label='eps = 0.1')\n",
        "plt.plot(c_05, label='eps = 0.05')\n",
        "plt.plot(c_01, label='eps = 0.01')\n",
        "plt.legend()\n",
        "plt.show()"
      ],
      "execution_count": 7,
      "outputs": [
        {
          "output_type": "display_data",
          "data": {
            "image/png": "[encoded data removed]",
            "text/plain": [
              "<Figure size 432x288 with 1 Axes>"
            ]
          },
          "metadata": {
            "tags": []
          }
        }
      ]
    },
    {
      "cell_type": "code",
      "metadata": {
        "id": "gu73ydol_d8_",
        "colab_type": "code",
        "colab": {
          "base_uri": "https://localhost:8080/",
          "height": 265
        },
        "outputId": "608cf5bc-b3f7-425f-d1f2-32e5da516d9c"
      },
      "source": [
        "bandits = [Bandit(1.0), Bandit(2.0), Bandit(3.0)]\n",
        "c_eps = run_experiment(bandits, 0.05, 1000, strategy='epsilon_greedy')\n",
        "c_ucb = run_experiment(bandits, 0.05, 1000, strategy='ucb')\n",
        "c_tp = run_experiment(bandits, 0.05, 1000, strategy='thompson_sampling')\n",
        "\n",
        "plt.plot(c_eps, label='eps = 0.05')\n",
        "plt.plot(c_ucb, label='ucb')\n",
        "plt.plot(c_tp, label='thompson sampling')\n",
        "plt.legend()\n",
        "plt.show()"
      ],
      "execution_count": 11,
      "outputs": [
        {
          "output_type": "display_data",
          "data": {
            "image/png": "[encoded data removed]",
            "text/plain": [
              "<Figure size 432x288 with 1 Axes>"
            ]
          },
          "metadata": {
            "tags": []
          }
        }
      ]
    },
    {
      "cell_type": "code",
      "metadata": {
        "id": "m7hDEuxL70X-",
        "colab_type": "code",
        "colab": {}
      },
      "source": [
        ""
      ],
      "execution_count": 0,
      "outputs": []
    }
  ]
}