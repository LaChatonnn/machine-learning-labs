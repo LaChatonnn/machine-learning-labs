{
 "cells": [
  {
   "cell_type": "markdown",
   "metadata": {},
   "source": [
    "# 0. Install dependencies\n",
    "\n",
    "You can uncomment the following lines to install the missing dependencies. For the code syntax, I'll follow Python 3.\n",
    "\n",
    "**Hint:** \n",
    "\n",
    "1. In Jupyter Notebook, you can select the chunk of code and press Ctrl + \"/\" to comment/uncomment.\n",
    "2. If you're using Google Colab, most of the dependencies should have been installed for you."
   ]
  },
  {
   "cell_type": "code",
   "execution_count": null,
   "metadata": {},
   "outputs": [],
   "source": [
    "# !pip install Pillow numpy matplotlib\n",
    "# pip install -U scikit-learn\n",
    "# !pip install numpy torchvision_nightly\n",
    "# !pip install torch\n",
    "# import torch\n",
    "# torch.__version__"
   ]
  },
  {
   "cell_type": "markdown",
   "metadata": {},
   "source": [
    "# Intro to sklearn\n",
    "\n",
    "scikit-learn or sklearn is an extremely simple and neat machine learning (ML) library in Python. It isn't the best library but it does everything very decently. Its biggest strength is that it provides a unified interface for almost all ML algorithms. Almost all (supervised) ML models implement the following two methods:\n",
    "\n",
    "```\n",
    "fit(self, X, y[, sample_weight])\n",
    "predict(self, X)\n",
    "```\n",
    "\n",
    "Where `fit` method let you train a model and `predict` method let you predict on unseen instances. An example API for LinearSVC can be found [here](https://scikit-learn.org/stable/modules/generated/sklearn.svm.LinearSVC.html#sklearn.svm.LinearSVC). There're other methods, too. But they're much less frequently used."
   ]
  },
  {
   "cell_type": "code",
   "execution_count": null,
   "metadata": {},
   "outputs": [],
   "source": []
  }
 ],
 "metadata": {
  "kernelspec": {
   "display_name": "Python 3",
   "language": "python",
   "name": "python3"
  },
  "language_info": {
   "codemirror_mode": {
    "name": "ipython",
    "version": 3
   },
   "file_extension": ".py",
   "mimetype": "text/x-python",
   "name": "python",
   "nbconvert_exporter": "python",
   "pygments_lexer": "ipython3",
   "version": "3.6.9"
  }
 },
 "nbformat": 4,
 "nbformat_minor": 2
}
