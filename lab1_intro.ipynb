{
 "cells": [
  {
   "cell_type": "markdown",
   "metadata": {},
   "source": [
    "# 0. Install dependencies\n",
    "\n",
    "You can uncomment the following lines to install the missing dependencies. For the code syntax, I'll follow Python 3.\n",
    "\n",
    "**Hint:** \n",
    "\n",
    "1. In Jupyter Notebook, you can select the chunk of code and press Ctrl + \"/\" to comment/uncomment.\n",
    "2. If you're using Google Colab, most of the dependencies should have been installed for you."
   ]
  },
  {
   "cell_type": "code",
   "execution_count": null,
   "metadata": {},
   "outputs": [],
   "source": [
    "# !pip install Pillow numpy matplotlib\n",
    "# pip install -U scikit-learn\n",
    "# !pip install numpy torchvision_nightly\n",
    "# !pip install torch\n",
    "# import torch\n",
    "# torch.__version__"
   ]
  },
  {
   "cell_type": "code",
   "execution_count": 6,
   "metadata": {},
   "outputs": [],
   "source": [
    "%matplotlib inline\n",
    "\n",
    "#the usual suspects\n",
    "import math\n",
    "import random\n",
    "import numpy as np\n",
    "from PIL import Image\n",
    "import matplotlib.pyplot as plt\n",
    "\n",
    "#torch\n",
    "import torch\n",
    "import torch.nn as nn\n",
    "import torch.nn.functional as F\n",
    "from torch import optim\n",
    "\n",
    "#use cuda 0 if available; assuming 1 gpu\n",
    "device = torch.device(\"cuda:0\" if torch.cuda.is_available() else \"cpu\")"
   ]
  },
  {
   "cell_type": "markdown",
   "metadata": {},
   "source": [
    "## Prerequisites\n",
    "\n",
    "Since this is a machine learning class, we'll not teach you about numeric and visualization libraries such as numpy and matplotlib. We assume that you know them already. If not, please watch the videos of the following course (it's free).\n",
    "\n",
    "https://www.udemy.com/course/deep-learning-prerequisites-the-numpy-stack-in-python/"
   ]
  },
  {
   "cell_type": "markdown",
   "metadata": {},
   "source": [
    "# Intro to sklearn\n",
    "\n",
    "scikit-learn or sklearn is an extremely simple and neat machine learning (ML) library in Python. It isn't the best library but it does everything very decently. Its biggest strength is that it provides a unified interface for almost all ML algorithms. Almost all (supervised) ML models implement the following two methods:\n",
    "\n",
    "```\n",
    "fit(self, X, y[, sample_weight])\n",
    "predict(self, X)\n",
    "```\n",
    "\n",
    "Where `fit` method let you train a model and `predict` method let you predict on unseen instances. An example API for LinearSVC can be found [here](https://scikit-learn.org/stable/modules/generated/sklearn.svm.LinearSVC.html#sklearn.svm.LinearSVC). There're other methods, too. But they're much less frequently used."
   ]
  },
  {
   "cell_type": "markdown",
   "metadata": {},
   "source": [
    "A barebone example of training and prediction on a simplictic dataset is as follows:"
   ]
  },
  {
   "cell_type": "code",
   "execution_count": 3,
   "metadata": {},
   "outputs": [
    {
     "data": {
      "text/plain": [
       "LinearSVC(C=1.0, class_weight=None, dual=True, fit_intercept=True,\n",
       "          intercept_scaling=1, loss='squared_hinge', max_iter=1000,\n",
       "          multi_class='ovr', penalty='l2', random_state=None, tol=0.0001,\n",
       "          verbose=0)"
      ]
     },
     "execution_count": 3,
     "metadata": {},
     "output_type": "execute_result"
    }
   ],
   "source": [
    "from sklearn import svm\n",
    "X = [[0, 0], [1, 1]]  # X is the data, which is a list of feature vectors\n",
    "y = [0, 1] # y is the one-hot encoded label\n",
    "clf = svm.LinearSVC()\n",
    "clf.fit(X, y)"
   ]
  },
  {
   "cell_type": "code",
   "execution_count": 4,
   "metadata": {},
   "outputs": [
    {
     "data": {
      "text/plain": [
       "array([1])"
      ]
     },
     "execution_count": 4,
     "metadata": {},
     "output_type": "execute_result"
    }
   ],
   "source": [
    "clf.predict([[2., 2.]])"
   ]
  },
  {
   "cell_type": "markdown",
   "metadata": {},
   "source": [
    "As you can see, the biggest advantage (and disadvantage) of `sklearn` is that you don't have to know what `svm` is to train an SVM successfully. All you need to know is that it's a classification algorithm and what the input format is.\n",
    "\n",
    "Therefore, it's perfect to build fast prototypes and compare different competing algorithms (often with the change of a single line of code). However, it's very bad for pedagogical purpose since you won't have experience with the underlying implementation such as the cost functions and optimizers. That's why in this lab, you'll try to build the same model using sklearn and a deep learning library from scratch."
   ]
  },
  {
   "cell_type": "markdown",
   "metadata": {},
   "source": [
    "### Task 1: line fitting using linear regression with sklearn (5 marks)"
   ]
  },
  {
   "cell_type": "code",
   "execution_count": 18,
   "metadata": {},
   "outputs": [],
   "source": [
    "#input x is some random numbers between 0 and 1\n",
    "batch_size = 100\n",
    "#x = torch.rand(batch_size,1,requires_grad=True) \n",
    "x = np.random.uniform(0,1,batch_size)"
   ]
  },
  {
   "cell_type": "code",
   "execution_count": 19,
   "metadata": {},
   "outputs": [
    {
     "data": {
      "text/plain": [
       "<matplotlib.collections.PathCollection at 0x1a2a395390>"
      ]
     },
     "execution_count": 19,
     "metadata": {},
     "output_type": "execute_result"
    },
    {
     "data": {
      "image/png": "[encoded data removed]",
      "text/plain": [
       "<Figure size 432x288 with 1 Axes>"
      ]
     },
     "metadata": {
      "needs_background": "light"
     },
     "output_type": "display_data"
    }
   ],
   "source": [
    "#create our own y_true as identity relationship to x with some random noise\n",
    "y_true = x + np.random.normal(0, 0.1, batch_size)\n",
    "plt.scatter(x,y_true)"
   ]
  },
  {
   "cell_type": "markdown",
   "metadata": {},
   "source": [
    "**Hint:**\n",
    "\n",
    "In Jupyter notebook, you can type ? after a method to show the method definition and ?? after a method to view the source code. E.g."
   ]
  },
  {
   "cell_type": "code",
   "execution_count": 15,
   "metadata": {},
   "outputs": [],
   "source": [
    "np.random.normal?"
   ]
  },
  {
   "cell_type": "markdown",
   "metadata": {},
   "source": [
    "In linear regression, you have the following general form:\n",
    "\n",
    "$$y_{pred} = Wx + b$$\n",
    "\n",
    "where $W$ is the weight and $b$ is the bias. Let's try a random $W$ and $b$ and compare the prediction with the true value:"
   ]
  },
  {
   "cell_type": "code",
   "execution_count": 23,
   "metadata": {},
   "outputs": [
    {
     "data": {
      "text/plain": [
       "<matplotlib.collections.PathCollection at 0x1a2a6c4240>"
      ]
     },
     "execution_count": 23,
     "metadata": {},
     "output_type": "execute_result"
    },
    {
     "data": {
      "image/png": "[encoded data removed]",
      "text/plain": [
       "<Figure size 432x288 with 1 Axes>"
      ]
     },
     "metadata": {
      "needs_background": "light"
     },
     "output_type": "display_data"
    }
   ],
   "source": [
    "W=-4; b=3\n",
    "y_pred = W*x + b\n",
    "plt.scatter(x,y_true)\n",
    "plt.scatter(x,y_pred)"
   ]
  },
  {
   "cell_type": "markdown",
   "metadata": {},
   "source": [
    "Pretty bad as we expected. Now it's your turn to fit a linear regression model using sklearn. You needs to do the following as well:\n",
    "\n",
    "1. Find the suitable sklearn model for this problem.\n",
    "2. Check what's the cost function used.\n",
    "3. Report the cost function and plot the prediction and the true value like the graph above."
   ]
  },
  {
   "cell_type": "code",
   "execution_count": null,
   "metadata": {},
   "outputs": [],
   "source": [
    "# TODO: your code here\n"
   ]
  }
 ],
 "metadata": {
  "kernelspec": {
   "display_name": "Python 3",
   "language": "python",
   "name": "python3"
  },
  "language_info": {
   "codemirror_mode": {
    "name": "ipython",
    "version": 3
   },
   "file_extension": ".py",
   "mimetype": "text/x-python",
   "name": "python",
   "nbconvert_exporter": "python",
   "pygments_lexer": "ipython3",
   "version": "3.6.9"
  }
 },
 "nbformat": 4,
 "nbformat_minor": 2
}
