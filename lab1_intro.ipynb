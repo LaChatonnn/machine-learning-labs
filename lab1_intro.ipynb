{
 "cells": [
  {
   "cell_type": "markdown",
   "metadata": {
    "colab_type": "text",
    "id": "view-in-github"
   },
   "source": [
    "<a href=\"https://colab.research.google.com/github/YipingNUS/machine-learning-labs/blob/master/lab1_intro.ipynb\" target=\"_parent\"><img src=\"https://colab.research.google.com/assets/colab-badge.svg\" alt=\"Open In Colab\"/></a>"
   ]
  },
  {
   "cell_type": "markdown",
   "metadata": {
    "colab_type": "text",
    "id": "VdRzqiXmk39s"
   },
   "source": [
    "# 0. Install dependencies\n",
    "\n",
    "You can uncomment the following lines to install the missing dependencies. For the code syntax, I'll follow Python 3.\n",
    "\n",
    "**Hint:** \n",
    "\n",
    "1. In Jupyter Notebook, you can select the chunk of code and press Ctrl + \"/\" to comment/uncomment.\n",
    "2. If you're using Google Colab, most of the dependencies should have been installed for you."
   ]
  },
  {
   "cell_type": "code",
   "execution_count": 0,
   "metadata": {
    "colab": {},
    "colab_type": "code",
    "id": "qO0cxoYhk39v"
   },
   "outputs": [],
   "source": [
    "# !pip install Pillow numpy matplotlib\n",
    "# pip install -U scikit-learn\n",
    "# !pip install numpy torchvision_nightly\n",
    "# !pip install torch\n",
    "# import torch\n",
    "# torch.__version__"
   ]
  },
  {
   "cell_type": "code",
   "execution_count": 0,
   "metadata": {
    "colab": {},
    "colab_type": "code",
    "id": "ajFy_rzok39y"
   },
   "outputs": [],
   "source": [
    "%matplotlib inline\n",
    "\n",
    "#the usual suspects\n",
    "import math\n",
    "import random\n",
    "import numpy as np\n",
    "from PIL import Image\n",
    "import matplotlib.pyplot as plt\n",
    "\n",
    "#torch\n",
    "import torch\n",
    "import torch.nn as nn\n",
    "import torch.nn.functional as F\n",
    "from torch import optim\n",
    "\n",
    "#use cuda 0 if available; assuming 1 gpu\n",
    "device = torch.device(\"cuda:0\" if torch.cuda.is_available() else \"cpu\")"
   ]
  },
  {
   "cell_type": "markdown",
   "metadata": {
    "colab_type": "text",
    "id": "rjs50_Jck391"
   },
   "source": [
    "## Prerequisites\n",
    "\n",
    "Since this is a machine learning class, we'll not teach you about numeric and visualization libraries such as numpy and matplotlib. We assume that you know them already. If not, please watch the videos of the following course (it's free).\n",
    "\n",
    "https://www.udemy.com/course/deep-learning-prerequisites-the-numpy-stack-in-python/"
   ]
  },
  {
   "cell_type": "markdown",
   "metadata": {
    "colab_type": "text",
    "id": "4i8fDmaUk392"
   },
   "source": [
    "# Intro to sklearn\n",
    "\n",
    "scikit-learn or sklearn is an extremely simple and neat machine learning (ML) library in Python. It isn't the best library but it does everything very decently. Its biggest strength is that it provides a unified interface for almost all ML algorithms. Almost all (supervised) ML models implement the following two methods:\n",
    "\n",
    "```\n",
    "fit(self, X, y[, sample_weight])\n",
    "predict(self, X)\n",
    "```\n",
    "\n",
    "Where `fit` method let you train a model and `predict` method let you predict on unseen instances. An example API for LinearSVC can be found [here](https://scikit-learn.org/stable/modules/generated/sklearn.svm.LinearSVC.html#sklearn.svm.LinearSVC). There're other methods, too. But they're much less frequently used."
   ]
  },
  {
   "cell_type": "markdown",
   "metadata": {
    "colab_type": "text",
    "id": "krizQdvmk392"
   },
   "source": [
    "A barebone example of training and prediction on a simplictic dataset is as follows:"
   ]
  },
  {
   "cell_type": "code",
   "execution_count": 0,
   "metadata": {
    "colab": {
     "base_uri": "https://localhost:8080/",
     "height": 84
    },
    "colab_type": "code",
    "id": "vjH1OI9uk393",
    "outputId": "293d89a7-d4b8-416b-942f-02c39d5b1fd6"
   },
   "outputs": [
    {
     "data": {
      "text/plain": [
       "LinearSVC(C=1.0, class_weight=None, dual=True, fit_intercept=True,\n",
       "          intercept_scaling=1, loss='squared_hinge', max_iter=1000,\n",
       "          multi_class='ovr', penalty='l2', random_state=None, tol=0.0001,\n",
       "          verbose=0)"
      ]
     },
     "execution_count": 2,
     "metadata": {
      "tags": []
     },
     "output_type": "execute_result"
    }
   ],
   "source": [
    "from sklearn import svm\n",
    "X = [[0, 0], [1, 1]]  # X is the data, which is a list of feature vectors\n",
    "y = [0, 1] # y is the one-hot encoded label\n",
    "clf = svm.LinearSVC()\n",
    "clf.fit(X, y)"
   ]
  },
  {
   "cell_type": "code",
   "execution_count": 0,
   "metadata": {
    "colab": {
     "base_uri": "https://localhost:8080/",
     "height": 34
    },
    "colab_type": "code",
    "id": "QqksHCdSk396",
    "outputId": "573e9a1d-1424-4101-fdf9-7b0eeea7f151"
   },
   "outputs": [
    {
     "data": {
      "text/plain": [
       "array([1])"
      ]
     },
     "execution_count": 3,
     "metadata": {
      "tags": []
     },
     "output_type": "execute_result"
    }
   ],
   "source": [
    "clf.predict([[2., 2.]])"
   ]
  },
  {
   "cell_type": "markdown",
   "metadata": {
    "colab_type": "text",
    "id": "wlYgJUuhk399"
   },
   "source": [
    "As you can see, the biggest advantage (and disadvantage) of `sklearn` is that you don't have to know what `svm` is to train an SVM successfully. All you need to know is that it's a classification algorithm and what the input format is.\n",
    "\n",
    "Therefore, it's perfect to build fast prototypes and compare different competing algorithms (often with the change of a single line of code). However, it's very bad for pedagogical purpose since you won't have experience with the underlying implementation such as the cost functions and optimizers. That's why in this lab, you'll try to build the same model using sklearn and a deep learning library from scratch."
   ]
  },
  {
   "cell_type": "markdown",
   "metadata": {
    "colab_type": "text",
    "id": "mB8YxXWQk39-"
   },
   "source": [
    "### Task 1: line fitting using linear regression with sklearn (5 marks)"
   ]
  },
  {
   "cell_type": "code",
   "execution_count": 0,
   "metadata": {
    "colab": {},
    "colab_type": "code",
    "id": "B85WmnIhk39_"
   },
   "outputs": [],
   "source": [
    "#input x is some random numbers between 0 and 1\n",
    "batch_size = 100\n",
    "#x = torch.rand(batch_size,1,requires_grad=True) \n",
    "x = np.random.uniform(0,1,batch_size)"
   ]
  },
  {
   "cell_type": "code",
   "execution_count": 54,
   "metadata": {
    "colab": {
     "base_uri": "https://localhost:8080/",
     "height": 282
    },
    "colab_type": "code",
    "id": "YyjerRFtk3-B",
    "outputId": "4a6920a0-3578-404b-fb93-dff8ce603146"
   },
   "outputs": [
    {
     "data": {
      "text/plain": [
       "<matplotlib.collections.PathCollection at 0x7fe7d08afcc0>"
      ]
     },
     "execution_count": 54,
     "metadata": {
      "tags": []
     },
     "output_type": "execute_result"
    },
    {
     "data": {
      "image/png": "[encoded data removed]",
      "text/plain": [
       "<Figure size 432x288 with 1 Axes>"
      ]
     },
     "metadata": {
      "tags": []
     },
     "output_type": "display_data"
    }
   ],
   "source": [
    "#create our own y_true as identity relationship to x with some random noise\n",
    "y_true = 2*x + np.random.normal(1, 0.1, batch_size)\n",
    "plt.scatter(x,y_true)"
   ]
  },
  {
   "cell_type": "markdown",
   "metadata": {
    "colab_type": "text",
    "id": "IvLmbc2fk3-E"
   },
   "source": [
    "**Hint:**\n",
    "\n",
    "In Jupyter notebook, you can type ? after a method to show the method definition and ?? after a method to view the source code. E.g."
   ]
  },
  {
   "cell_type": "code",
   "execution_count": 0,
   "metadata": {
    "colab": {},
    "colab_type": "code",
    "id": "X9uwmIpgk3-E"
   },
   "outputs": [],
   "source": [
    "np.random.normal?"
   ]
  },
  {
   "cell_type": "markdown",
   "metadata": {
    "colab_type": "text",
    "id": "333Ep3I7k3-G"
   },
   "source": [
    "In linear regression, you have the following general form:\n",
    "\n",
    "$$y_{pred} = Wx + b$$\n",
    "\n",
    "where $W$ is the weight and $b$ is the bias. Let's try a random $W$ and $b$ and compare the prediction with the true value:"
   ]
  },
  {
   "cell_type": "code",
   "execution_count": 55,
   "metadata": {
    "colab": {
     "base_uri": "https://localhost:8080/",
     "height": 282
    },
    "colab_type": "code",
    "id": "eFx4DLMAk3-L",
    "outputId": "585c910a-b56e-4c26-f0a0-ed25d4989397"
   },
   "outputs": [
    {
     "data": {
      "text/plain": [
       "<matplotlib.collections.PathCollection at 0x7fe7d087a080>"
      ]
     },
     "execution_count": 55,
     "metadata": {
      "tags": []
     },
     "output_type": "execute_result"
    },
    {
     "data": {
      "image/png": "[encoded data removed]",
      "text/plain": [
       "<Figure size 432x288 with 1 Axes>"
      ]
     },
     "metadata": {
      "tags": []
     },
     "output_type": "display_data"
    }
   ],
   "source": [
    "W=-4; b=3\n",
    "y_pred = W*x + b\n",
    "plt.scatter(x,y_true)\n",
    "plt.scatter(x,y_pred)"
   ]
  },
  {
   "cell_type": "markdown",
   "metadata": {
    "colab_type": "text",
    "id": "UWPDefSKk3-O"
   },
   "source": [
    "Pretty bad as we expected. Now it's your turn to fit a linear regression model using sklearn. You needs to do the following as well:\n",
    "\n",
    "1. Find the suitable sklearn model for this problem.\n",
    "2. Check what's the cost function used.\n",
    "3. Report the loss before and after training.\n",
    "4. Plot the prediction and the true value like the graph above."
   ]
  },
  {
   "cell_type": "code",
   "execution_count": 0,
   "metadata": {
    "colab": {},
    "colab_type": "code",
    "id": "UosIXwdnk3-O"
   },
   "outputs": [],
   "source": [
    "# TODO: your code here\n"
   ]
  },
  {
   "cell_type": "markdown",
   "metadata": {
    "colab_type": "text",
    "id": "YWs3ef5TmQpi"
   },
   "source": [
    "# Intro to PyTorch\n",
    "\n",
    "In contrast to `Sklearn`, `PyTorch` gives you much more flexibility to implement the model from scratch. Thus, it's much harder to master it. In this section we'll first go through the basic concepts in `PyTorch` and then you'll implement the same model above using `PyTorch`."
   ]
  },
  {
   "cell_type": "markdown",
   "metadata": {
    "colab_type": "text",
    "id": "4OGOWd3ynJ7q"
   },
   "source": [
    "## Tensors\n",
    "A fancy way of saying n-dimensional vector/matrix.\n",
    "\n",
    "* Vector: one-dimensional tensor\n",
    "* Matrix: two-dimensional tensor"
   ]
  },
  {
   "cell_type": "code",
   "execution_count": 7,
   "metadata": {
    "colab": {
     "base_uri": "https://localhost:8080/",
     "height": 34
    },
    "colab_type": "code",
    "id": "q_lfRaQonBX1",
    "outputId": "16de0fda-11ec-4842-bc30-c7855e67e0be"
   },
   "outputs": [
    {
     "data": {
      "text/plain": [
       "tensor([0., 0., 0., 0., 0., 0., 0., 0., 0., 0.])"
      ]
     },
     "execution_count": 7,
     "metadata": {
      "tags": []
     },
     "output_type": "execute_result"
    }
   ],
   "source": [
    "#only zeros\n",
    "torch.zeros(10)"
   ]
  },
  {
   "cell_type": "code",
   "execution_count": 9,
   "metadata": {
    "colab": {
     "base_uri": "https://localhost:8080/",
     "height": 50
    },
    "colab_type": "code",
    "id": "V78gQoTlnYiT",
    "outputId": "7db6eefa-ca0a-4ba0-9944-e103ff79fdb1"
   },
   "outputs": [
    {
     "data": {
      "text/plain": [
       "tensor([[1., 1.],\n",
       "        [1., 1.]])"
      ]
     },
     "execution_count": 9,
     "metadata": {
      "tags": []
     },
     "output_type": "execute_result"
    }
   ],
   "source": [
    "#only ones\n",
    "torch.ones(2,2)"
   ]
  },
  {
   "cell_type": "code",
   "execution_count": 10,
   "metadata": {
    "colab": {
     "base_uri": "https://localhost:8080/",
     "height": 134
    },
    "colab_type": "code",
    "id": "q6vc8AWLnghW",
    "outputId": "f5332ed2-b93b-44dc-d929-becf0baefa26"
   },
   "outputs": [
    {
     "data": {
      "text/plain": [
       "tensor([[[[-0.3922,  0.7812, -1.7366, -1.4855],\n",
       "          [-0.2282, -0.9623,  0.4913,  1.7943],\n",
       "          [ 0.8969, -1.4181, -1.6351,  0.8198]],\n",
       "\n",
       "         [[-0.4729,  0.1592,  1.4504,  0.5713],\n",
       "          [ 0.7981, -0.7173,  0.4862,  1.0923],\n",
       "          [-0.3470, -0.3581,  1.7093,  0.7521]]]])"
      ]
     },
     "execution_count": 10,
     "metadata": {
      "tags": []
     },
     "output_type": "execute_result"
    }
   ],
   "source": [
    "#normal random, useful for initialization\n",
    "torch.randn(1,2,3,4)"
   ]
  },
  {
   "cell_type": "code",
   "execution_count": 11,
   "metadata": {
    "colab": {
     "base_uri": "https://localhost:8080/",
     "height": 67
    },
    "colab_type": "code",
    "id": "8iTrMhX3nq2W",
    "outputId": "dade42ee-fb5e-4cdc-df81-441d0c777c8c"
   },
   "outputs": [
    {
     "data": {
      "text/plain": [
       "tensor([[1., 2., 3.],\n",
       "        [4., 5., 6.],\n",
       "        [7., 8., 9.]], dtype=torch.float64)"
      ]
     },
     "execution_count": 11,
     "metadata": {
      "tags": []
     },
     "output_type": "execute_result"
    }
   ],
   "source": [
    "# Torch tensors can be easily converted to/from Python list or numpy arrays\n",
    "#from list\n",
    "torch.tensor([[1,2,3],[4,5,6],[7,8,9]], dtype=torch.float64)"
   ]
  },
  {
   "cell_type": "code",
   "execution_count": 12,
   "metadata": {
    "colab": {
     "base_uri": "https://localhost:8080/",
     "height": 67
    },
    "colab_type": "code",
    "id": "U2voA4ywn-9J",
    "outputId": "dfeb2450-bce1-405a-8a84-675ae3126cc6"
   },
   "outputs": [
    {
     "data": {
      "text/plain": [
       "tensor([[1, 2, 3],\n",
       "        [4, 5, 6],\n",
       "        [7, 8, 9]])"
      ]
     },
     "execution_count": 12,
     "metadata": {
      "tags": []
     },
     "output_type": "execute_result"
    }
   ],
   "source": [
    "#from numpy\n",
    "a = np.array([[1,2,3],[4,5,6],[7,8,9]])\n",
    "b = torch.from_numpy(a)\n",
    "b"
   ]
  },
  {
   "cell_type": "markdown",
   "metadata": {
    "colab_type": "text",
    "id": "D7hYwKUTolIk"
   },
   "source": [
    "**IMPORTANT:** when creating tensor from a numpy array, torch only creates a reference. So if you modify the original numpy array, the `tensor` will be modified as well. "
   ]
  },
  {
   "cell_type": "code",
   "execution_count": 14,
   "metadata": {
    "colab": {
     "base_uri": "https://localhost:8080/",
     "height": 67
    },
    "colab_type": "code",
    "id": "q-1r4h_yoF8n",
    "outputId": "7ecfa881-31f4-4188-96d9-dd38026320cc"
   },
   "outputs": [
    {
     "data": {
      "text/plain": [
       "tensor([[1, 2, 3],\n",
       "        [4, 0, 6],\n",
       "        [7, 8, 9]])"
      ]
     },
     "execution_count": 14,
     "metadata": {
      "tags": []
     },
     "output_type": "execute_result"
    }
   ],
   "source": [
    "a[1,1] = 0\n",
    "b"
   ]
  },
  {
   "cell_type": "markdown",
   "metadata": {
    "colab_type": "text",
    "id": "iJ8hfhFoo5S6"
   },
   "source": [
    "Sometimes, you want to convert the tensor to numpy array for visualization or evaluation, it can be done using the `.numpy()` method."
   ]
  },
  {
   "cell_type": "code",
   "execution_count": 15,
   "metadata": {
    "colab": {
     "base_uri": "https://localhost:8080/",
     "height": 67
    },
    "colab_type": "code",
    "id": "RMyz-BLso1VM",
    "outputId": "f2420fe0-85d1-45d5-e735-cb54a344d5af"
   },
   "outputs": [
    {
     "data": {
      "text/plain": [
       "array([[1, 2, 3],\n",
       "       [4, 0, 6],\n",
       "       [7, 8, 9]])"
      ]
     },
     "execution_count": 15,
     "metadata": {
      "tags": []
     },
     "output_type": "execute_result"
    }
   ],
   "source": [
    "#to numpy\n",
    "b.numpy()"
   ]
  },
  {
   "cell_type": "markdown",
   "metadata": {
    "colab_type": "text",
    "id": "aQY-7TTrpVPT"
   },
   "source": [
    "### Size and shape"
   ]
  },
  {
   "cell_type": "code",
   "execution_count": 16,
   "metadata": {
    "colab": {
     "base_uri": "https://localhost:8080/",
     "height": 84
    },
    "colab_type": "code",
    "id": "NBEznDeaoLDJ",
    "outputId": "b7f089d4-46d9-4e76-a870-f875d552d269"
   },
   "outputs": [
    {
     "name": "stdout",
     "output_type": "stream",
     "text": [
      "torch.Size([3, 3]) torch.Size([3, 3]) torch.int64 cpu\n"
     ]
    },
    {
     "data": {
      "text/plain": [
       "tensor([[2, 1, 7],\n",
       "        [8, 3, 8],\n",
       "        [6, 7, 7]])"
      ]
     },
     "execution_count": 16,
     "metadata": {
      "tags": []
     },
     "output_type": "execute_result"
    }
   ],
   "source": [
    "#size, shape, device\n",
    "a = torch.randint(low = 0, high = 10, size = (3,3))\n",
    "print(a.shape, a.size(), a.dtype, a.device)\n",
    "a"
   ]
  },
  {
   "cell_type": "code",
   "execution_count": 17,
   "metadata": {
    "colab": {
     "base_uri": "https://localhost:8080/",
     "height": 34
    },
    "colab_type": "code",
    "id": "W9xg4lKnpi09",
    "outputId": "ed456138-326c-45dd-bc2c-858c78bace2e"
   },
   "outputs": [
    {
     "data": {
      "text/plain": [
       "torch.Size([3, 3, 1, 1])"
      ]
     },
     "execution_count": 17,
     "metadata": {
      "tags": []
     },
     "output_type": "execute_result"
    }
   ],
   "source": [
    "#unsqueeze\n",
    "b = a.unsqueeze(2).unsqueeze(3)\n",
    "b.shape"
   ]
  },
  {
   "cell_type": "code",
   "execution_count": 18,
   "metadata": {
    "colab": {
     "base_uri": "https://localhost:8080/",
     "height": 34
    },
    "colab_type": "code",
    "id": "k3qtdpLPpveN",
    "outputId": "930f1faa-c71c-470a-bce5-3b8b57c37321"
   },
   "outputs": [
    {
     "data": {
      "text/plain": [
       "torch.Size([3, 3, 1])"
      ]
     },
     "execution_count": 18,
     "metadata": {
      "tags": []
     },
     "output_type": "execute_result"
    }
   ],
   "source": [
    "#squeeze\n",
    "b.squeeze(2).shape"
   ]
  },
  {
   "cell_type": "code",
   "execution_count": 19,
   "metadata": {
    "colab": {
     "base_uri": "https://localhost:8080/",
     "height": 34
    },
    "colab_type": "code",
    "id": "yRMLzvUKpx_J",
    "outputId": "83089854-e76c-4bdc-cfe7-1fd417db5174"
   },
   "outputs": [
    {
     "data": {
      "text/plain": [
       "tensor([[2, 1, 7, 8, 3, 8, 6, 7, 7]])"
      ]
     },
     "execution_count": 19,
     "metadata": {
      "tags": []
     },
     "output_type": "execute_result"
    }
   ],
   "source": [
    "a.reshape(1,-1)"
   ]
  },
  {
   "cell_type": "code",
   "execution_count": 20,
   "metadata": {
    "colab": {
     "base_uri": "https://localhost:8080/",
     "height": 151
    },
    "colab_type": "code",
    "id": "H2NJdBknp5_3",
    "outputId": "5766503b-0632-4fb3-8839-fda0c1eab2db"
   },
   "outputs": [
    {
     "name": "stdout",
     "output_type": "stream",
     "text": [
      "Original tensor:\n",
      "tensor([[2, 1, 7],\n",
      "        [8, 3, 8],\n",
      "        [6, 7, 7]])\n",
      "Transposed tensor:\n",
      "tensor([[2, 8, 6],\n",
      "        [1, 3, 7],\n",
      "        [7, 8, 7]])\n"
     ]
    }
   ],
   "source": [
    "#transpose\n",
    "print(f'Original tensor:\\n{a}')\n",
    "print(f'Transposed tensor:\\n{a.transpose(0,1)}')"
   ]
  },
  {
   "cell_type": "code",
   "execution_count": 21,
   "metadata": {
    "colab": {
     "base_uri": "https://localhost:8080/",
     "height": 34
    },
    "colab_type": "code",
    "id": "adF_N2qzp8uM",
    "outputId": "c264af03-bc2d-44e3-c447-112f0de61226"
   },
   "outputs": [
    {
     "data": {
      "text/plain": [
       "torch.Size([1, 9, 5, 5])"
      ]
     },
     "execution_count": 21,
     "metadata": {
      "tags": []
     },
     "output_type": "execute_result"
    }
   ],
   "source": [
    "#concatenate. my rule of thumb, always specify the dimention to concatenate.\n",
    "a = torch.zeros(1,3,5,5)\n",
    "b = torch.ones(1,3,5,5)\n",
    "c = torch.randn(1,3,5,5)\n",
    "torch.cat((a,b,c), dim=1).shape"
   ]
  },
  {
   "cell_type": "markdown",
   "metadata": {
    "colab_type": "text",
    "id": "7Ww_WetAqtp8"
   },
   "source": [
    "### Tensor operations"
   ]
  },
  {
   "cell_type": "code",
   "execution_count": 22,
   "metadata": {
    "colab": {
     "base_uri": "https://localhost:8080/",
     "height": 168
    },
    "colab_type": "code",
    "id": "G210vHOCqLLt",
    "outputId": "f62f99c6-7b60-4428-c1fb-f130b21e2cf3"
   },
   "outputs": [
    {
     "name": "stdout",
     "output_type": "stream",
     "text": [
      "tensor([[1., 2., 3.],\n",
      "        [4., 5., 6.],\n",
      "        [7., 8., 9.]], dtype=torch.float64)\n",
      "tensor([[1., 0., 0.],\n",
      "        [0., 1., 0.],\n",
      "        [0., 0., 1.]], dtype=torch.float64)\n",
      "tensor([[1.],\n",
      "        [0.],\n",
      "        [1.]], dtype=torch.float64)\n"
     ]
    }
   ],
   "source": [
    "a = torch.tensor([[1,2,3],[4,5,6],[7,8,9]], dtype=torch.float64)\n",
    "b = torch.eye(3,3, dtype = torch.float64)\n",
    "c = torch.tensor([[1],[0],[1]], dtype = torch.float64)\n",
    "print(a)\n",
    "print(b)\n",
    "print(c)"
   ]
  },
  {
   "cell_type": "code",
   "execution_count": 23,
   "metadata": {
    "colab": {
     "base_uri": "https://localhost:8080/",
     "height": 67
    },
    "colab_type": "code",
    "id": "xcSS5GLkqv26",
    "outputId": "38bfb271-ef1c-49f2-a5b1-032319238c76"
   },
   "outputs": [
    {
     "data": {
      "text/plain": [
       "tensor([[ 2.,  2.,  3.],\n",
       "        [ 4.,  6.,  6.],\n",
       "        [ 7.,  8., 10.]], dtype=torch.float64)"
      ]
     },
     "execution_count": 23,
     "metadata": {
      "tags": []
     },
     "output_type": "execute_result"
    }
   ],
   "source": [
    "#add/subtract\n",
    "a+b"
   ]
  },
  {
   "cell_type": "code",
   "execution_count": 24,
   "metadata": {
    "colab": {
     "base_uri": "https://localhost:8080/",
     "height": 67
    },
    "colab_type": "code",
    "id": "lhJV1RxrqyUI",
    "outputId": "b1bc8b90-8cc8-4aaf-b365-06ec102f1f99"
   },
   "outputs": [
    {
     "data": {
      "text/plain": [
       "tensor([[1., 0., 0.],\n",
       "        [0., 5., 0.],\n",
       "        [0., 0., 9.]], dtype=torch.float64)"
      ]
     },
     "execution_count": 24,
     "metadata": {
      "tags": []
     },
     "output_type": "execute_result"
    }
   ],
   "source": [
    "#element-wise multiply/divide\n",
    "a*b"
   ]
  },
  {
   "cell_type": "code",
   "execution_count": 25,
   "metadata": {
    "colab": {
     "base_uri": "https://localhost:8080/",
     "height": 67
    },
    "colab_type": "code",
    "id": "ePd7xDC5q0U0",
    "outputId": "8e6ed056-c50c-4ce1-cb96-4bf5b9398adc"
   },
   "outputs": [
    {
     "data": {
      "text/plain": [
       "tensor([[ 4.],\n",
       "        [10.],\n",
       "        [16.]], dtype=torch.float64)"
      ]
     },
     "execution_count": 25,
     "metadata": {
      "tags": []
     },
     "output_type": "execute_result"
    }
   ],
   "source": [
    "#dot product\n",
    "a@c"
   ]
  },
  {
   "cell_type": "code",
   "execution_count": 0,
   "metadata": {
    "colab": {},
    "colab_type": "code",
    "id": "jJEvrCY2q2Rp"
   },
   "outputs": [],
   "source": []
  },
  {
   "cell_type": "markdown",
   "metadata": {
    "colab_type": "text",
    "id": "6H88WHjaq8NF"
   },
   "source": [
    "### Broadcasting\n",
    "\n",
    "Read [the note](https://pytorch.org/docs/stable/notes/broadcasting.html) to learn about broadcasting. In short, \n",
    "\n",
    "Two tensors are “broadcastable” if the following rules hold:\n",
    "\n",
    "* Each tensor has at least one dimension.\n",
    "* When iterating over the dimension sizes, starting at the trailing dimension, the dimension sizes must either be equal, one of them is 1, or one of them does not exist."
   ]
  },
  {
   "cell_type": "code",
   "execution_count": 28,
   "metadata": {
    "colab": {
     "base_uri": "https://localhost:8080/",
     "height": 118
    },
    "colab_type": "code",
    "id": "xAJcLUCnq9pr",
    "outputId": "da40cd05-7dae-40de-84da-fe90f25a6cc2"
   },
   "outputs": [
    {
     "name": "stdout",
     "output_type": "stream",
     "text": [
      "tensor([[1., 2., 3.],\n",
      "        [4., 5., 6.],\n",
      "        [7., 8., 9.]], dtype=torch.float64)\n",
      "tensor([[1.],\n",
      "        [0.],\n",
      "        [1.]], dtype=torch.float64)\n"
     ]
    }
   ],
   "source": [
    "a = torch.tensor([[1,2,3],[4,5,6],[7,8,9]], dtype=torch.float64)\n",
    "b = torch.tensor([[1],[0],[1]], dtype = torch.float64)\n",
    "print(a)\n",
    "print(b)"
   ]
  },
  {
   "cell_type": "code",
   "execution_count": 29,
   "metadata": {
    "colab": {
     "base_uri": "https://localhost:8080/",
     "height": 67
    },
    "colab_type": "code",
    "id": "mbSP5U5_rA5E",
    "outputId": "8c1235f5-3c5c-40b2-ce19-540cbed7b1d4"
   },
   "outputs": [
    {
     "data": {
      "text/plain": [
       "tensor([[ 2.,  3.,  4.],\n",
       "        [ 4.,  5.,  6.],\n",
       "        [ 8.,  9., 10.]], dtype=torch.float64)"
      ]
     },
     "execution_count": 29,
     "metadata": {
      "tags": []
     },
     "output_type": "execute_result"
    }
   ],
   "source": [
    "a+b"
   ]
  },
  {
   "cell_type": "code",
   "execution_count": 30,
   "metadata": {
    "colab": {
     "base_uri": "https://localhost:8080/",
     "height": 67
    },
    "colab_type": "code",
    "id": "1cM9Tr_ArsHG",
    "outputId": "9a7b4287-2a69-43b5-df34-9e89ea080ccc"
   },
   "outputs": [
    {
     "data": {
      "text/plain": [
       "tensor([[ 2.,  2.,  4.],\n",
       "        [ 5.,  5.,  7.],\n",
       "        [ 8.,  8., 10.]], dtype=torch.float64)"
      ]
     },
     "execution_count": 30,
     "metadata": {
      "tags": []
     },
     "output_type": "execute_result"
    }
   ],
   "source": [
    "a+b.reshape(1,-1)"
   ]
  },
  {
   "cell_type": "markdown",
   "metadata": {
    "colab_type": "text",
    "id": "uMqtyaxxsJm9"
   },
   "source": [
    "## Layers: The building block of deep learning models"
   ]
  },
  {
   "cell_type": "code",
   "execution_count": 31,
   "metadata": {
    "colab": {
     "base_uri": "https://localhost:8080/",
     "height": 101
    },
    "colab_type": "code",
    "id": "hP24oQeHr6fI",
    "outputId": "bd016fbb-627c-4f0c-bdf6-c3265d874b09"
   },
   "outputs": [
    {
     "data": {
      "text/plain": [
       "tensor([[-2.0054,  0.3960,  0.4362,  0.6358, -0.7697,  0.5745, -0.5309],\n",
       "        [ 1.0183, -2.9105,  0.0443,  0.7112, -0.1393, -0.6230, -0.5627],\n",
       "        [ 0.5264,  0.6796,  0.1308, -0.3560,  0.7193, -0.0425, -1.6154],\n",
       "        [ 1.8244, -0.9294,  0.5479,  1.6286, -0.2351,  0.5589,  1.2200],\n",
       "        [-0.0688,  1.1711,  0.3270, -0.2784,  0.3522,  0.0350,  1.1644]])"
      ]
     },
     "execution_count": 31,
     "metadata": {
      "tags": []
     },
     "output_type": "execute_result"
    }
   ],
   "source": [
    "# create some fake input data\n",
    "batch_size = 5\n",
    "input_size = 7\n",
    "output_size = 3\n",
    "x = torch.randn(batch_size, input_size)\n",
    "x"
   ]
  },
  {
   "cell_type": "markdown",
   "metadata": {
    "colab_type": "text",
    "id": "Tbwp-yunsX98"
   },
   "source": [
    "### Linear Layer\n",
    "\n",
    "A linear layer performs the following operation:\n",
    "\n",
    "$$y = xW^T + b$$\n",
    "\n",
    "where:\n",
    "* `y` is the output (`batch_size` * `output_size`)\n",
    "* `x` is the input (`batch size` * `input_size`)\n",
    "* `W` is the weight for linear transformation (`output_size` * `input_size`)\n",
    "* `b` is the bias for linear transformation (`output_size`)"
   ]
  },
  {
   "cell_type": "code",
   "execution_count": 32,
   "metadata": {
    "colab": {
     "base_uri": "https://localhost:8080/",
     "height": 118
    },
    "colab_type": "code",
    "id": "CZlgHvl5sUcS",
    "outputId": "aebe2cab-fba5-48d6-d775-24dc3b3e4a69"
   },
   "outputs": [
    {
     "name": "stdout",
     "output_type": "stream",
     "text": [
      "torch.Size([5, 3])\n"
     ]
    },
    {
     "data": {
      "text/plain": [
       "tensor([[ 0.8236,  0.1035, -0.3802],\n",
       "        [ 0.5886, -0.5821,  0.8810],\n",
       "        [ 0.3963, -0.3277, -0.1276],\n",
       "        [-0.7169, -0.6116,  0.5273],\n",
       "        [-0.3887, -0.4834,  0.5324]], grad_fn=<AddmmBackward>)"
      ]
     },
     "execution_count": 32,
     "metadata": {
      "tags": []
     },
     "output_type": "execute_result"
    }
   ],
   "source": [
    "#pytorch magic\n",
    "m = nn.Linear(input_size,output_size,bias=True)\n",
    "output = m(x)\n",
    "print(output.shape)\n",
    "output"
   ]
  },
  {
   "cell_type": "markdown",
   "metadata": {
    "colab_type": "text",
    "id": "YqpYSd28svFs"
   },
   "source": [
    "### Activation \n",
    "\n",
    "Unlike the linear layer, activation layers perfrom some mapping operations on your input.Notice that since they do not usually have a set of tensors as weights so we do not need to keep track of them."
   ]
  },
  {
   "cell_type": "markdown",
   "metadata": {
    "colab_type": "text",
    "id": "VIM5jqNZtT-2"
   },
   "source": [
    "#### Rectified Linear Unit (ReLU)\n",
    "\n",
    "$$f(x) = max(0,x)$$\n",
    "\n",
    "The default activation function for deep neural networks (all layers except for the final layer)."
   ]
  },
  {
   "cell_type": "code",
   "execution_count": 34,
   "metadata": {
    "colab": {
     "base_uri": "https://localhost:8080/",
     "height": 101
    },
    "colab_type": "code",
    "id": "t7fRhgi3tS5-",
    "outputId": "51db38de-fd97-4e00-b618-ff970d93219d"
   },
   "outputs": [
    {
     "data": {
      "text/plain": [
       "tensor([[0.0000, 0.3960, 0.4362, 0.6358, 0.0000, 0.5745, 0.0000],\n",
       "        [1.0183, 0.0000, 0.0443, 0.7112, 0.0000, 0.0000, 0.0000],\n",
       "        [0.5264, 0.6796, 0.1308, 0.0000, 0.7193, 0.0000, 0.0000],\n",
       "        [1.8244, 0.0000, 0.5479, 1.6286, 0.0000, 0.5589, 1.2200],\n",
       "        [0.0000, 1.1711, 0.3270, 0.0000, 0.3522, 0.0350, 1.1644]])"
      ]
     },
     "execution_count": 34,
     "metadata": {
      "tags": []
     },
     "output_type": "execute_result"
    }
   ],
   "source": [
    "torch.relu(x)"
   ]
  },
  {
   "cell_type": "code",
   "execution_count": 35,
   "metadata": {
    "colab": {
     "base_uri": "https://localhost:8080/",
     "height": 282
    },
    "colab_type": "code",
    "id": "APPunBGzskZN",
    "outputId": "54f999f9-dbe0-43c6-b8fb-f839ad99dcc9"
   },
   "outputs": [
    {
     "data": {
      "text/plain": [
       "[<matplotlib.lines.Line2D at 0x7fe7d0bbd198>]"
      ]
     },
     "execution_count": 35,
     "metadata": {
      "tags": []
     },
     "output_type": "execute_result"
    },
    {
     "data": {
      "image/png": "[encoded data removed]",
      "text/plain": [
       "<Figure size 432x288 with 1 Axes>"
      ]
     },
     "metadata": {
      "tags": []
     },
     "output_type": "display_data"
    }
   ],
   "source": [
    "#visualization\n",
    "inp = torch.arange(-10, 10, 0.1)\n",
    "outp = torch.relu(inp)\n",
    "plt.plot(inp.numpy(),outp.numpy())"
   ]
  },
  {
   "cell_type": "markdown",
   "metadata": {
    "colab_type": "text",
    "id": "QpyAYkhwtw4T"
   },
   "source": [
    "#### Sigmoid\n",
    "\n",
    "$$f(x) = \\frac{1}{1 + e^{-x}}$$\n",
    "\n",
    "Useful for binary and multi-label classification."
   ]
  },
  {
   "cell_type": "code",
   "execution_count": 36,
   "metadata": {
    "colab": {
     "base_uri": "https://localhost:8080/",
     "height": 282
    },
    "colab_type": "code",
    "id": "ouLovyNTtv-v",
    "outputId": "7647b1d3-20f2-488f-b996-13a31eaab9d2"
   },
   "outputs": [
    {
     "data": {
      "text/plain": [
       "[<matplotlib.lines.Line2D at 0x7fe7d0b555f8>]"
      ]
     },
     "execution_count": 36,
     "metadata": {
      "tags": []
     },
     "output_type": "execute_result"
    },
    {
     "data": {
      "image/png": "[encoded data removed]",
      "text/plain": [
       "<Figure size 432x288 with 1 Axes>"
      ]
     },
     "metadata": {
      "tags": []
     },
     "output_type": "display_data"
    }
   ],
   "source": [
    "inp = torch.arange(-10, 10, 0.1)\n",
    "outp = torch.sigmoid(inp)\n",
    "plt.plot(inp.numpy(),outp.numpy())"
   ]
  },
  {
   "cell_type": "markdown",
   "metadata": {
    "colab_type": "text",
    "id": "tqn7J96Ptw2B"
   },
   "source": [
    "#### Softmax\n",
    "\n",
    "$$f(x_i) = \\frac{e^{x_i}}{\\sum_j e^{x_j}}$$\n",
    "\n",
    "where $i$ is the current class and $j$ is any class.\n",
    "\n",
    "Useful for multi-class classification."
   ]
  },
  {
   "cell_type": "code",
   "execution_count": 37,
   "metadata": {
    "colab": {
     "base_uri": "https://localhost:8080/",
     "height": 118
    },
    "colab_type": "code",
    "id": "zY3LF5FFtB28",
    "outputId": "d34d6bc3-ed16-46c8-b12c-cb27f7134629"
   },
   "outputs": [
    {
     "name": "stdout",
     "output_type": "stream",
     "text": [
      "torch.Size([5, 7])\n"
     ]
    },
    {
     "data": {
      "text/plain": [
       "tensor([[0.0171, 0.1885, 0.1962, 0.2396, 0.0587, 0.2253, 0.0746],\n",
       "        [0.3513, 0.0069, 0.1326, 0.2584, 0.1104, 0.0681, 0.0723],\n",
       "        [0.1942, 0.2264, 0.1308, 0.0804, 0.2355, 0.1100, 0.0228],\n",
       "        [0.3204, 0.0204, 0.0894, 0.2634, 0.0409, 0.0904, 0.1751],\n",
       "        [0.0780, 0.2696, 0.1159, 0.0633, 0.1189, 0.0866, 0.2678]])"
      ]
     },
     "execution_count": 37,
     "metadata": {
      "tags": []
     },
     "output_type": "execute_result"
    }
   ],
   "source": [
    "print(x.shape) #batch_size x output_size\n",
    "torch.softmax(x, dim = 1) #dim is class/feature dimension"
   ]
  },
  {
   "cell_type": "code",
   "execution_count": 41,
   "metadata": {
    "colab": {
     "base_uri": "https://localhost:8080/",
     "height": 34
    },
    "colab_type": "code",
    "id": "wxtHXGJ3uiF-",
    "outputId": "e527964e-9cd3-4d47-833b-c1764d387a0d"
   },
   "outputs": [
    {
     "data": {
      "text/plain": [
       "tensor([1.0000, 1.0000, 1.0000, 1.0000, 1.0000])"
      ]
     },
     "execution_count": 41,
     "metadata": {
      "tags": []
     },
     "output_type": "execute_result"
    }
   ],
   "source": [
    "# To validate, the probs of each row adds up to 1\n",
    "torch.sum(torch.softmax(x, dim = 1), dim=1)"
   ]
  },
  {
   "cell_type": "markdown",
   "metadata": {
    "colab_type": "text",
    "id": "othfFhOEvWFu"
   },
   "source": [
    "## Your First PyTorch Model\n",
    "\n",
    "A typical neural networks has three components: an **architecture**, a **loss**, and an **optimizer**. \n",
    "\n",
    "An **architecture** is a collection of layers that are usually initiated with random weights. When a batch of input tensors is fed into the architecture, it is called **feedforward**. The output is another batch of predicted tensors.\n",
    "\n",
    "We compare the predicted tensors with ground truth and describe the discrepancy by an arbitrary **loss function**.\n",
    "\n",
    "The **optimizer** then calculates the derivatives of the loss function called **gradients** in order to update the weights of the architecture to minimize the loss (discrepancies between prediction and ground truth). The loss is thus **backpropagated** from the loss function, through the output layer, all the way up to the input layer using [Chain Rule](https://en.wikipedia.org/wiki/Chain_rule).\n",
    "\n",
    "As time goes on, the loss will become smaller and our neural network architecture will make a prediction that better reflects our dataset."
   ]
  },
  {
   "cell_type": "code",
   "execution_count": 42,
   "metadata": {
    "colab": {
     "base_uri": "https://localhost:8080/",
     "height": 101
    },
    "colab_type": "code",
    "id": "EtGTcUHsvuDt",
    "outputId": "5b8af23c-bc20-41d2-e672-d8f863cafdce"
   },
   "outputs": [
    {
     "data": {
      "text/plain": [
       "tensor([[ 0.5237,  1.2278, -0.6611,  1.4849, -0.9323,  0.9780, -0.8792],\n",
       "        [-0.9277,  0.4641, -0.4038,  0.2590,  1.3126, -0.3670, -0.8239],\n",
       "        [-0.0137,  0.8449,  1.0635,  0.1989, -0.0121,  1.8876, -0.7460],\n",
       "        [-0.5273,  0.5964,  0.6055,  0.5183, -0.3493,  1.8640, -1.6439],\n",
       "        [ 0.1435, -0.6405,  0.4126, -0.0158,  0.1180, -1.4260,  0.8325]])"
      ]
     },
     "execution_count": 42,
     "metadata": {
      "tags": []
     },
     "output_type": "execute_result"
    }
   ],
   "source": [
    "batch_size = 5\n",
    "input_size = 7\n",
    "output_size = 3\n",
    "x = torch.randn(batch_size, input_size)\n",
    "x"
   ]
  },
  {
   "cell_type": "markdown",
   "metadata": {
    "colab_type": "text",
    "id": "iIuRXIFnvu5E"
   },
   "source": [
    "### Architecture and Feedforward"
   ]
  },
  {
   "cell_type": "code",
   "execution_count": 0,
   "metadata": {
    "colab": {},
    "colab_type": "code",
    "id": "v_51tciHuwcT"
   },
   "outputs": [],
   "source": [
    "class SimpleNet(nn.Module):\n",
    "    def __init__(self, input_size, output_size):\n",
    "        super(SimpleNet, self).__init__()\n",
    "        self.fc1 = nn.Linear(input_size,output_size)\n",
    "    def forward(self,x):\n",
    "        return(torch.sigmoid(self.fc1(x)))"
   ]
  },
  {
   "cell_type": "code",
   "execution_count": 44,
   "metadata": {
    "colab": {
     "base_uri": "https://localhost:8080/",
     "height": 101
    },
    "colab_type": "code",
    "id": "e5DLUizSwHt0",
    "outputId": "8a110894-e620-481b-b2b5-1a3a4c09ff26"
   },
   "outputs": [
    {
     "data": {
      "text/plain": [
       "tensor([[0.4508, 0.2648, 0.4328],\n",
       "        [0.3674, 0.6810, 0.3954],\n",
       "        [0.2851, 0.3169, 0.3797],\n",
       "        [0.3310, 0.2992, 0.3511],\n",
       "        [0.4714, 0.6132, 0.6383]], grad_fn=<SigmoidBackward>)"
      ]
     },
     "execution_count": 44,
     "metadata": {
      "tags": []
     },
     "output_type": "execute_result"
    }
   ],
   "source": [
    "m = SimpleNet(7,3)\n",
    "m(x)"
   ]
  },
  {
   "cell_type": "markdown",
   "metadata": {
    "colab_type": "text",
    "id": "I3zrHCUgwPbH"
   },
   "source": [
    "### Loss\n",
    "\n",
    "A loss function is a fuction that takes in your model output and compares it with ground truth. It describes the discrepancies between your predictions and ground truth, either in terms of labels (classification), numbers (regression), similarities (clustering).\n",
    "\n",
    "I won't go through much details. Please read [this article](https://medium.com/udacity-pytorch-challengers/a-brief-overview-of-loss-functions-in-pytorch-c0ddb78068f7) by yourself. Note that not all the losses are often used. I usually use `torch.nn.MSELoss` for regression and `torch.nn.NLLLoss` or `torch.nn.CrossEntropyLoss` for classification and that's it."
   ]
  },
  {
   "cell_type": "markdown",
   "metadata": {
    "colab_type": "text",
    "id": "L1cRE6iYx6lZ"
   },
   "source": [
    "### Back Propagation\n",
    "\n",
    "Neural networks rely on a process called **backpropagation** in order to adjust their weights from random ones to ones that minimize the loss. \n",
    "\n",
    "Since it's a hands-on lab, we'll skip the math part and use directly a prebuilt optimizer instead of implementing `SGD` from scratch. The general procedure is outlined below:\n",
    "\n",
    "```\n",
    "# define the model\n",
    "m = SimpleNet(7,3)\n",
    "y_pred = m(x)\n",
    "\n",
    "loss_func = nn.MSELoss()\n",
    "optimizer = optim.SGD(m.parameters(), lr = 0.1)\n",
    "```\n",
    "\n"
   ]
  },
  {
   "cell_type": "code",
   "execution_count": 0,
   "metadata": {
    "colab": {},
    "colab_type": "code",
    "id": "liHN2GrQwK7N"
   },
   "outputs": [],
   "source": [
    "def train():\n",
    "    #feedforward\n",
    "    y_pred = m(x)\n",
    "    \n",
    "    #calculate loss\n",
    "    loss = loss_func(m(x),y_true)\n",
    "    \n",
    "    #reset gradients to zero\n",
    "    optimizer.zero_grad()\n",
    "    \n",
    "    #backpropagate\n",
    "    loss.backward()\n",
    "    \n",
    "    #update weights\n",
    "    optimizer.step()"
   ]
  },
  {
   "cell_type": "markdown",
   "metadata": {
    "colab_type": "text",
    "id": "QYhHHwHS2ykW"
   },
   "source": [
    "For most real-world problems, you probably need to iterate through your dataset multiple times to sufficiently learn the model, you can do this by simply calling the training method multiple times."
   ]
  },
  {
   "cell_type": "code",
   "execution_count": 0,
   "metadata": {
    "colab": {},
    "colab_type": "code",
    "id": "iwOdNcgU2dZx"
   },
   "outputs": [],
   "source": [
    "#training\n",
    "nb_epoch = 100\n",
    "for i in trange(nb_epoch): train()"
   ]
  },
  {
   "cell_type": "markdown",
   "metadata": {
    "colab_type": "text",
    "id": "3lVRTdRx3KJd"
   },
   "source": [
    "### Task 2: line fitting using linear regression with pytorch (5 marks)\n",
    "\n",
    "Same requirement as the exercise using sklearn"
   ]
  },
  {
   "cell_type": "code",
   "execution_count": 0,
   "metadata": {
    "colab": {},
    "colab_type": "code",
    "id": "W3gJqdH83Ij4"
   },
   "outputs": [],
   "source": [
    "#input x is some random numbers between 0 and 1\n",
    "batch_size = 100\n",
    "x = torch.rand(batch_size,1,requires_grad=True) "
   ]
  },
  {
   "cell_type": "code",
   "execution_count": 58,
   "metadata": {
    "colab": {
     "base_uri": "https://localhost:8080/",
     "height": 282
    },
    "colab_type": "code",
    "id": "vlaRlTvS3T9c",
    "outputId": "cc7b5be4-bca9-4b0a-a6c1-f5e8740de1ec"
   },
   "outputs": [
    {
     "data": {
      "text/plain": [
       "<matplotlib.collections.PathCollection at 0x7fe7d077ec88>"
      ]
     },
     "execution_count": 58,
     "metadata": {
      "tags": []
     },
     "output_type": "execute_result"
    },
    {
     "data": {
      "image/png": "[encoded data removed]",
      "text/plain": [
       "<Figure size 432x288 with 1 Axes>"
      ]
     },
     "metadata": {
      "tags": []
     },
     "output_type": "display_data"
    }
   ],
   "source": [
    "#create our own y_true as identity relationship to x with some random noise\n",
    "y_true = 2*x + torch.rand(batch_size,1).div_(5) + 1\n",
    "y_true = y_true.detach()\n",
    "plt.scatter(x.detach().numpy(),y_true.numpy())"
   ]
  },
  {
   "cell_type": "code",
   "execution_count": 0,
   "metadata": {
    "colab": {},
    "colab_type": "code",
    "id": "z6IFwVwv3aHB"
   },
   "outputs": [],
   "source": [
    "# TODO: your answer\n"
   ]
  }
 ],
 "metadata": {
  "colab": {
   "collapsed_sections": [],
   "include_colab_link": true,
   "name": "lab1_intro.ipynb",
   "provenance": []
  },
  "kernelspec": {
   "display_name": "Python 3",
   "language": "python",
   "name": "python3"
  },
  "language_info": {
   "codemirror_mode": {
    "name": "ipython",
    "version": 3
   },
   "file_extension": ".py",
   "mimetype": "text/x-python",
   "name": "python",
   "nbconvert_exporter": "python",
   "pygments_lexer": "ipython3",
   "version": "3.6.9"
  }
 },
 "nbformat": 4,
 "nbformat_minor": 1
}
