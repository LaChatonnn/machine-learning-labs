{
 "cells": [
  {
   "cell_type": "markdown",
   "metadata": {
    "colab_type": "text",
    "id": "view-in-github"
   },
   "source": [
    "<a href=\"https://colab.research.google.com/github/YipingNUS/machine-learning-labs/blob/master/lab3_svm.ipynb\" target=\"_parent\"><img src=\"https://colab.research.google.com/assets/colab-badge.svg\" alt=\"Open In Colab\"/></a>"
   ]
  },
  {
   "cell_type": "code",
   "execution_count": 1,
   "metadata": {
    "colab": {
     "base_uri": "https://localhost:8080/",
     "height": 62
    },
    "colab_type": "code",
    "id": "_br3v4f_U0Q1",
    "outputId": "b6576fe1-4a25-4e36-9d17-d31d5603364d"
   },
   "outputs": [
    {
     "data": {
      "text/html": [
       "<p style=\"color: red;\">\n",
       "The default version of TensorFlow in Colab will soon switch to TensorFlow 2.x.<br>\n",
       "We recommend you <a href=\"https://www.tensorflow.org/guide/migrate\" target=\"_blank\">upgrade</a> now \n",
       "or ensure your notebook will continue to use TensorFlow 1.x via the <code>%tensorflow_version 1.x</code> magic:\n",
       "<a href=\"https://colab.research.google.com/notebooks/tensorflow_version.ipynb\" target=\"_blank\">more info</a>.</p>\n"
      ],
      "text/plain": [
       "<IPython.core.display.HTML object>"
      ]
     },
     "metadata": {
      "tags": []
     },
     "output_type": "display_data"
    }
   ],
   "source": [
    "%matplotlib inline\n",
    "\n",
    "#the usual suspects\n",
    "import math\n",
    "import random\n",
    "import numpy as np\n",
    "from PIL import Image\n",
    "import matplotlib.pyplot as plt\n",
    "\n",
    "import tensorflow as tf"
   ]
  },
  {
   "cell_type": "markdown",
   "metadata": {
    "colab_type": "text",
    "id": "ummI7cMTVDyy"
   },
   "source": [
    "# Task 1: Explore with different kernels\n",
    "\n",
    "The example is taken from [Tensorflow Playground](https://playground.tensorflow.org/). Please use sklearn to build a model and classify the following toy dataset."
   ]
  },
  {
   "cell_type": "code",
   "execution_count": 0,
   "metadata": {
    "colab": {},
    "colab_type": "code",
    "id": "7ovVFUBLU_pW"
   },
   "outputs": [],
   "source": [
    "#input x is some random numbers between 0 and 1\n",
    "batch_size = 1000\n",
    "#x = torch.rand(batch_size,1,requires_grad=True) \n",
    "x_0 = np.zeros((batch_size,2)) + np.random.randn(batch_size,2)/5\n",
    "y_0 = np.zeros(batch_size)\n",
    "x_1 = (np.random.rand(batch_size,2)-0.5)*2\n",
    "x_1[:,1] = np.sqrt(1*1 - x_1[:,0]*x_1[:,0])\n",
    "x_1[:,1] *= np.random.choice([-1,1], batch_size, replace=True)\n",
    "x_1 = x_1 + np.random.randn(batch_size,2)/10\n",
    "y_1 = np.ones(batch_size)"
   ]
  },
  {
   "cell_type": "code",
   "execution_count": 38,
   "metadata": {
    "colab": {
     "base_uri": "https://localhost:8080/",
     "height": 332
    },
    "colab_type": "code",
    "id": "vVeAn5-FWwqs",
    "outputId": "ff7aa610-3def-47c9-ad1b-2115a296e0df"
   },
   "outputs": [
    {
     "data": {
      "text/plain": [
       "(-1.3274923360981408,\n",
       " 1.4611615784138605,\n",
       " -1.3813116915732846,\n",
       " 1.4073422229387167)"
      ]
     },
     "execution_count": 38,
     "metadata": {
      "tags": []
     },
     "output_type": "execute_result"
    },
    {
     "data": {
      "image/png": "[encoded data removed]",
      "text/plain": [
       "<Figure size 432x288 with 1 Axes>"
      ]
     },
     "metadata": {
      "tags": []
     },
     "output_type": "display_data"
    }
   ],
   "source": [
    "#create our own y_true as identity relationship to x with some random noise\n",
    "plt.scatter(x_0[:,0], x_0[:,1])\n",
    "plt.scatter(x_1[:,0], x_1[:,1])\n",
    "plt.axis('square')"
   ]
  },
  {
   "cell_type": "markdown",
   "metadata": {
    "colab_type": "text",
    "id": "qG8huunZbqxR"
   },
   "source": [
    "## Practice:\n",
    "\n",
    "1. Build a linear SVM classifier using sklearn\n",
    "2. Report the loss and accuracy\n",
    "3. Try to plot the decision boundary\n",
    "4. Change to use an appropriate kernel and repeat the above"
   ]
  },
  {
   "cell_type": "code",
   "execution_count": 0,
   "metadata": {
    "colab": {},
    "colab_type": "code",
    "id": "ejApuekCbmVW"
   },
   "outputs": [],
   "source": [
    "# TODO: Your code here\n"
   ]
  },
  {
   "cell_type": "markdown",
   "metadata": {
    "colab_type": "text",
    "id": "vf6x7MDxVJAt"
   },
   "source": [
    "## Caution\n",
    "\n",
    "* The example is just to demonstrate the usefulness of a kernel on a toy dataset. In practice, since the dimension of the data is much larger, the data is almost always linearly separable in some dimensions. Thus, the usefulness of a nonlinear kernel is much less than demonstrated in this example. \n",
    "* The kernel methods were immensely popular in the late 90s and earth 00s. However, they almost completely distincted due to the following reasons:\n",
    "  1. It's quite hard to design a suitable kernel. There's no universal kernel that works the best and it's often domain dependent. It's more of an art than science.\n",
    "  2. They're very hard to implement. The popular SVM libraries are implemented in C or C++. Now fewer and fewer people master these languages.\n",
    "  3. Neural networks can achieve the same purpose with a much more generalized and simple model."
   ]
  },
  {
   "cell_type": "markdown",
   "metadata": {
    "colab": {},
    "colab_type": "code",
    "id": "pEVcenuEWePp"
   },
   "source": [
    "# Task 2: Classifying Documents Related to Automotive\n",
    "\n",
    "In this task, you will explore multi-class classification as well as playing with textual data. \n",
    "\n",
    "For this lab, I crawled around 10k documents from Wikipedia belonging to around 30 sub-categories under automotive. \n",
    "\n",
    "#### Preparations:\n",
    "1. Download the data [here](https://knorex-my.sharepoint.com/:u:/p/jinyiping/EY05xUQQGTFAqYQfLDx2AG4BbxjjM-laAorXrTE9KLSyMA?e=XL48Kk) with password \"chulalongkorn\". \n",
    "2. **Optional:** upload the data to Colab (skip if you set up the environment in your laptop).\n",
    "3. Untar the data.\n",
    "4. Take a look at the `stats.txt` file and skim through the documents to have a sense. The documents are organized in folders, each category in a separate folder."
   ]
  },
  {
   "cell_type": "markdown",
   "metadata": {},
   "source": [
    "## Requirements\n",
    "\n",
    "1. Go through the [sklearn tutorial for text data](https://scikit-learn.org/stable/tutorial/text_analytics/working_with_text_data.html) and learn about the necessary preprocessing steps.\n",
    "2. Read the data from the directory.\n",
    "3. Split the data into training and test set.\n",
    "4. Build a classifier with [pipeline](https://scikit-learn.org/stable/tutorial/text_analytics/working_with_text_data.html#building-a-pipeline) using at least [Naive Bayes](https://scikit-learn.org/stable/modules/naive_bayes.html#naive-bayes) and `SVM` algorithm and compare the performance. (In my case, `SVM` performs much better than `NB`.)\n",
    "5. Evaluate the classifier and calculate the macro and micro P/R/F$_1$ score. \n",
    "6. Try to classify some random documents from the Web and see if the classifier has reasonable performance."
   ]
  },
  {
   "cell_type": "code",
   "execution_count": null,
   "metadata": {},
   "outputs": [],
   "source": [
    "# TODO: your code here\n"
   ]
  }
 ],
 "metadata": {
  "colab": {
   "authorship_tag": "ABX9TyPmDABSUReCUZ8HFjZImQfk",
   "include_colab_link": true,
   "name": "lab3_svm.ipynb",
   "provenance": []
  },
  "kernelspec": {
   "display_name": "Python 3",
   "language": "python",
   "name": "python3"
  },
  "language_info": {
   "codemirror_mode": {
    "name": "ipython",
    "version": 3
   },
   "file_extension": ".py",
   "mimetype": "text/x-python",
   "name": "python",
   "nbconvert_exporter": "python",
   "pygments_lexer": "ipython3",
   "version": "3.6.9"
  }
 },
 "nbformat": 4,
 "nbformat_minor": 1
}
